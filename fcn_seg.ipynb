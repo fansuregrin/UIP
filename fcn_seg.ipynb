{
 "cells": [
  {
   "cell_type": "code",
   "execution_count": 10,
   "metadata": {},
   "outputs": [],
   "source": [
    "import yaml\n",
    "import numpy as np\n",
    "import matplotlib.pyplot as plt\n",
    "import torch.nn.functional as F\n",
    "import torch\n",
    "from torchvision.utils import draw_segmentation_masks\n",
    "\n",
    "from data import (\n",
    "    create_test_dataset, create_test_dataloader\n",
    ")\n",
    "\n",
    "ds_cfg_fp = 'configs/dataset/suim.yaml'\n",
    "ds_cfg = yaml.load(open(ds_cfg_fp, 'r'), yaml.FullLoader)\n",
    "test_ds = create_test_dataset('seg', ds_cfg)\n",
    "test_dl = create_test_dataloader(test_ds)\n",
    "\n",
    "color_map = ds_cfg['test']['color_map']\n",
    "colors = ['#'+c for c in sorted(color_map.keys())]"
   ]
  },
  {
   "cell_type": "code",
   "execution_count": 11,
   "metadata": {},
   "outputs": [],
   "source": [
    "def show(imgs):\n",
    "    if not isinstance(imgs, list):\n",
    "        imgs = [imgs]\n",
    "    fig, axs = plt.subplots(ncols=len(imgs), squeeze=False)\n",
    "    fig.set_size_inches(4*len(imgs), 4)\n",
    "    for i, img in enumerate(imgs):\n",
    "        img = img.detach()\n",
    "        img = img.cpu().numpy().transpose(1,2,0)\n",
    "        axs[0, i].imshow(np.asarray(img))\n",
    "        axs[0, i].set(xticklabels=[], yticklabels=[], xticks=[], yticks=[])"
   ]
  },
  {
   "cell_type": "code",
   "execution_count": 12,
   "metadata": {},
   "outputs": [],
   "source": [
    "def calc_mIOU(pred, label, num_classes):\n",
    "    pred = F.softmax(pred, dim=1)\n",
    "    pred = pred.argmax(1).squeeze(1)\n",
    "    label = label.argmax(1).squeeze(1)\n",
    "    iou_list = list()\n",
    "    present_iou_list = list()\n",
    "\n",
    "    pred = pred.view(-1)\n",
    "    label = label.view(-1)\n",
    "    for sem_class in range(num_classes):\n",
    "        pred_inds = (pred == sem_class)\n",
    "        target_inds = (label == sem_class)\n",
    "        if target_inds.long().sum().item() == 0:\n",
    "            iou_now = float('nan')\n",
    "        else: \n",
    "            intersection_now = (pred_inds[target_inds]).long().sum().item()\n",
    "            union_now = pred_inds.long().sum().item() +\\\n",
    "                    target_inds.long().sum().item() - intersection_now\n",
    "            iou_now = float(intersection_now) / float(union_now)\n",
    "            present_iou_list.append(iou_now)\n",
    "        iou_list.append(iou_now)\n",
    "    return np.mean(present_iou_list)"
   ]
  },
  {
   "cell_type": "code",
   "execution_count": null,
   "metadata": {},
   "outputs": [],
   "source": [
    "for batch in test_dl:\n",
    "    imgs = batch['img']\n",
    "    masks = batch['mask']\n",
    "    imgs_with_mask = []\n",
    "    for img, mask in zip(imgs, masks):\n",
    "        img = (img * 255).to(torch.uint8)\n",
    "        normalized_mask = F.softmax(mask, dim=0)\n",
    "        boolean_mask = torch.stack([(normalized_mask.argmax(0) == i) for i in range(len(color_map))])\n",
    "        img_with_mask = draw_segmentation_masks(img, boolean_mask, alpha=0.5, colors=colors)\n",
    "        imgs_with_mask.append(img_with_mask)\n",
    "    show(imgs_with_mask)\n",
    "    break"
   ]
  }
 ],
 "metadata": {
  "kernelspec": {
   "display_name": "pytorch",
   "language": "python",
   "name": "python3"
  },
  "language_info": {
   "codemirror_mode": {
    "name": "ipython",
    "version": 3
   },
   "file_extension": ".py",
   "mimetype": "text/x-python",
   "name": "python",
   "nbconvert_exporter": "python",
   "pygments_lexer": "ipython3",
   "version": "3.10.9"
  },
  "orig_nbformat": 4
 },
 "nbformat": 4,
 "nbformat_minor": 2
}
